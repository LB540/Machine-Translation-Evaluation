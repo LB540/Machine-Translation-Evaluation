{
  "nbformat": 4,
  "nbformat_minor": 0,
  "metadata": {
    "colab": {
      "provenance": []
    },
    "kernelspec": {
      "name": "python3",
      "display_name": "Python 3"
    },
    "language_info": {
      "name": "python"
    }
  },
  "cells": [
    {
      "cell_type": "code",
      "metadata": {
        "colab": {
          "base_uri": "https://localhost:8080/"
        },
        "id": "LEunIDIi-cm9",
        "outputId": "a9ee38da-e46e-4330-b9ed-fd78a53e005c"
      },
      "source": [
        "from google.colab import drive\n",
        "drive.mount(\"/content/drive\")"
      ],
      "execution_count": null,
      "outputs": [
        {
          "output_type": "stream",
          "name": "stdout",
          "text": [
            "Mounted at /content/drive\n"
          ]
        }
      ]
    },
    {
      "cell_type": "code",
      "metadata": {
        "colab": {
          "base_uri": "https://localhost:8080/"
        },
        "id": "2Os1Eu3zeeZj",
        "outputId": "557d1e67-e6ee-4b1d-8303-276d5f745f1f"
      },
      "source": [
        "!pip install jiwer"
      ],
      "execution_count": null,
      "outputs": [
        {
          "output_type": "stream",
          "name": "stdout",
          "text": [
            "Looking in indexes: https://pypi.org/simple, https://us-python.pkg.dev/colab-wheels/public/simple/\n",
            "Collecting jiwer\n",
            "  Downloading jiwer-2.3.0-py3-none-any.whl (15 kB)\n",
            "Collecting python-Levenshtein==0.12.2\n",
            "  Downloading python-Levenshtein-0.12.2.tar.gz (50 kB)\n",
            "\u001b[K     |████████████████████████████████| 50 kB 7.4 MB/s \n",
            "\u001b[?25hRequirement already satisfied: setuptools in /usr/local/lib/python3.7/dist-packages (from python-Levenshtein==0.12.2->jiwer) (57.4.0)\n",
            "Building wheels for collected packages: python-Levenshtein\n",
            "  Building wheel for python-Levenshtein (setup.py) ... \u001b[?25l\u001b[?25hdone\n",
            "  Created wheel for python-Levenshtein: filename=python_Levenshtein-0.12.2-cp37-cp37m-linux_x86_64.whl size=149865 sha256=e00c0bac4e8f1983525b256067599d2ed7d296fdf310eb4be9b571ad10cf54a8\n",
            "  Stored in directory: /root/.cache/pip/wheels/05/5f/ca/7c4367734892581bb5ff896f15027a932c551080b2abd3e00d\n",
            "Successfully built python-Levenshtein\n",
            "Installing collected packages: python-Levenshtein, jiwer\n",
            "Successfully installed jiwer-2.3.0 python-Levenshtein-0.12.2\n"
          ]
        }
      ]
    },
    {
      "cell_type": "code",
      "metadata": {
        "id": "pTKyyUUpejy6",
        "colab": {
          "base_uri": "https://localhost:8080/"
        },
        "outputId": "c9567a3b-cbef-4c10-f0c9-8aa36efe7133"
      },
      "source": [
        "from jiwer import wer\n",
        "\n",
        "ground_truth = \"hello world\"\n",
        "hypothesis = \"hello duck\"\n",
        "error = wer(ground_truth, hypothesis)\n",
        "error"
      ],
      "execution_count": null,
      "outputs": [
        {
          "output_type": "execute_result",
          "data": {
            "text/plain": [
              "0.5"
            ]
          },
          "metadata": {},
          "execution_count": 3
        }
      ]
    },
    {
      "cell_type": "code",
      "metadata": {
        "colab": {
          "base_uri": "https://localhost:8080/"
        },
        "id": "dNNfnx86lDmc",
        "outputId": "a897ce97-14e2-46b0-d54c-0853d4053edc"
      },
      "source": [
        "from jiwer import mer\n",
        "\n",
        "ground_truth = \"hello world\"\n",
        "hypothesis = \"hello duck\"\n",
        "error = mer(ground_truth, hypothesis)\n",
        "error"
      ],
      "execution_count": null,
      "outputs": [
        {
          "output_type": "execute_result",
          "data": {
            "text/plain": [
              "0.5"
            ]
          },
          "metadata": {},
          "execution_count": 4
        }
      ]
    },
    {
      "cell_type": "code",
      "metadata": {
        "id": "zRaayoOY_Nz7",
        "colab": {
          "base_uri": "https://localhost:8080/"
        },
        "outputId": "90996b62-a5e0-4bfc-f718-d742a5de7ef0"
      },
      "source": [
        "import nltk\n",
        "nltk.download('punkt')"
      ],
      "execution_count": null,
      "outputs": [
        {
          "output_type": "stream",
          "name": "stdout",
          "text": [
            "[nltk_data] Downloading package punkt to /root/nltk_data...\n",
            "[nltk_data]   Unzipping tokenizers/punkt.zip.\n"
          ]
        },
        {
          "output_type": "execute_result",
          "data": {
            "text/plain": [
              "True"
            ]
          },
          "metadata": {},
          "execution_count": 5
        }
      ]
    },
    {
      "cell_type": "code",
      "metadata": {
        "id": "GoSm3jUJoemb",
        "colab": {
          "base_uri": "https://localhost:8080/",
          "height": 265
        },
        "outputId": "7ce19077-27e9-493f-e493-a172be253c42"
      },
      "source": [
        "from nltk import word_tokenize\n",
        "#from nltk import BlanklineTokenizer\n",
        "#tk = BlanklineTokenizer()\n",
        "translated_file = \"/content/drive/MyDrive/DataAugment/eda/en-hi/en_base.trasnlated.en\"\n",
        "reference_file = \"/content/drive/MyDrive/DataAugment/eda/en-hi/reference-hi.txt\"\n",
        "f5 = open('/content/wer_te_en_ur1.txt', \"a+\")\n",
        "f6 = open('/content/mer_te_en_ur1.txt', \"a+\")\n",
        "with open(translated_file, \"r\") as f1, open(reference_file, \"r\") as f2:\n",
        "  lines1 = [line.rstrip('\\n') for line in f1]\n",
        "  print(len(lines1))\n",
        "  lines2 = [line.rstrip('\\n') for line in f2]\n",
        "  print(len(lines2))\n",
        "  for l1,l2 in zip(lines1,lines2):\n",
        "    tokens_ref=word_tokenize(l2) #tk.tokenize(l2)\n",
        "    #print(tokens_ref)\n",
        "    tokens_translate=word_tokenize(l1) #tk.tokenize(l1)\n",
        "    #print(tokens_translate)\n",
        "    score = wer(tokens_ref,tokens_translate)\n",
        "    f5.write(str(score)+'\\n')\n",
        "    score1 = mer(tokens_ref,tokens_translate)\n",
        "    f6.write(str(score1)+'\\n')\n",
        "    wer = score\n",
        "    mer = score1\n",
        "f5.close()\n",
        "f6.close()\n",
        "wer = score\n",
        "mer = score1"
      ],
      "execution_count": null,
      "outputs": [
        {
          "output_type": "stream",
          "name": "stdout",
          "text": [
            "272\n",
            "272\n"
          ]
        },
        {
          "output_type": "error",
          "ename": "TypeError",
          "evalue": "ignored",
          "traceback": [
            "\u001b[0;31m---------------------------------------------------------------------------\u001b[0m",
            "\u001b[0;31mTypeError\u001b[0m                                 Traceback (most recent call last)",
            "\u001b[0;32m<ipython-input-6-f3d78b1d2645>\u001b[0m in \u001b[0;36m<module>\u001b[0;34m()\u001b[0m\n\u001b[1;32m     16\u001b[0m     \u001b[0mtokens_translate\u001b[0m\u001b[0;34m=\u001b[0m\u001b[0mword_tokenize\u001b[0m\u001b[0;34m(\u001b[0m\u001b[0ml1\u001b[0m\u001b[0;34m)\u001b[0m \u001b[0;31m#tk.tokenize(l1)\u001b[0m\u001b[0;34m\u001b[0m\u001b[0;34m\u001b[0m\u001b[0m\n\u001b[1;32m     17\u001b[0m     \u001b[0;31m#print(tokens_translate)\u001b[0m\u001b[0;34m\u001b[0m\u001b[0;34m\u001b[0m\u001b[0;34m\u001b[0m\u001b[0m\n\u001b[0;32m---> 18\u001b[0;31m     \u001b[0mscore\u001b[0m \u001b[0;34m=\u001b[0m \u001b[0mwer\u001b[0m\u001b[0;34m(\u001b[0m\u001b[0mtokens_ref\u001b[0m\u001b[0;34m,\u001b[0m\u001b[0mtokens_translate\u001b[0m\u001b[0;34m)\u001b[0m\u001b[0;34m\u001b[0m\u001b[0;34m\u001b[0m\u001b[0m\n\u001b[0m\u001b[1;32m     19\u001b[0m     \u001b[0mf5\u001b[0m\u001b[0;34m.\u001b[0m\u001b[0mwrite\u001b[0m\u001b[0;34m(\u001b[0m\u001b[0mstr\u001b[0m\u001b[0;34m(\u001b[0m\u001b[0mscore\u001b[0m\u001b[0;34m)\u001b[0m\u001b[0;34m+\u001b[0m\u001b[0;34m'\\n'\u001b[0m\u001b[0;34m)\u001b[0m\u001b[0;34m\u001b[0m\u001b[0;34m\u001b[0m\u001b[0m\n\u001b[1;32m     20\u001b[0m     \u001b[0mscore1\u001b[0m \u001b[0;34m=\u001b[0m \u001b[0mmer\u001b[0m\u001b[0;34m(\u001b[0m\u001b[0mtokens_ref\u001b[0m\u001b[0;34m,\u001b[0m\u001b[0mtokens_translate\u001b[0m\u001b[0;34m)\u001b[0m\u001b[0;34m\u001b[0m\u001b[0;34m\u001b[0m\u001b[0m\n",
            "\u001b[0;31mTypeError\u001b[0m: 'float' object is not callable"
          ]
        }
      ]
    },
    {
      "cell_type": "code",
      "metadata": {
        "id": "gHBlXSmkmXxc"
      },
      "source": [],
      "execution_count": null,
      "outputs": []
    },
    {
      "cell_type": "code",
      "metadata": {
        "id": "uldzVFpuwEEc"
      },
      "source": [],
      "execution_count": null,
      "outputs": []
    }
  ]
}