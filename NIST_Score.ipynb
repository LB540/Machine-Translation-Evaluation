{
  "nbformat": 4,
  "nbformat_minor": 0,
  "metadata": {
    "colab": {
      "name": "NIST_Score.ipynb",
      "provenance": []
    },
    "kernelspec": {
      "name": "python3",
      "display_name": "Python 3"
    }
  },
  "cells": [
    {
      "cell_type": "code",
      "metadata": {
        "id": "prGWbqfPVlJH",
        "colab": {
          "base_uri": "https://localhost:8080/"
        },
        "outputId": "bc9738f2-0577-4b7d-af06-427edf4efb8a"
      },
      "source": [
        "from google.colab import drive\n",
        "drive.mount(\"/content/drive\")"
      ],
      "execution_count": null,
      "outputs": [
        {
          "output_type": "stream",
          "text": [
            "Mounted at /content/drive\n"
          ],
          "name": "stdout"
        }
      ]
    },
    {
      "cell_type": "code",
      "metadata": {
        "id": "SpsLVU6sCzZ1"
      },
      "source": [
        "import nltk"
      ],
      "execution_count": null,
      "outputs": []
    },
    {
      "cell_type": "code",
      "metadata": {
        "colab": {
          "base_uri": "https://localhost:8080/"
        },
        "id": "_Ou3C3ZkVrWO",
        "outputId": "d3a5c597-dd0b-4876-ccd7-8d403bd71730"
      },
      "source": [
        "ref=['विज्ञान तब शुरू होता है जब तुम\"क्यों\" और \"कैसे\" पूछते हो।']\n",
        "x=' '.join(ref).split()\n",
        "x"
      ],
      "execution_count": null,
      "outputs": [
        {
          "output_type": "execute_result",
          "data": {
            "text/plain": [
              "['विज्ञान',\n",
              " 'तब',\n",
              " 'शुरू',\n",
              " 'होता',\n",
              " 'है',\n",
              " 'जब',\n",
              " 'तुम\"क्यों\"',\n",
              " 'और',\n",
              " '\"कैसे\"',\n",
              " 'पूछते',\n",
              " 'हो।']"
            ]
          },
          "metadata": {
            "tags": []
          },
          "execution_count": 3
        }
      ]
    },
    {
      "cell_type": "code",
      "metadata": {
        "id": "13tzOG4lV3x1",
        "colab": {
          "base_uri": "https://localhost:8080/"
        },
        "outputId": "a1ac3d6f-b04b-4029-f29f-a982d15f7c77"
      },
      "source": [
        "hyp=['तुम पूछते हो कि क्यों, और कैसे पूछते हो।']\n",
        "y=' '.join(hyp).split()\n",
        "y\n"
      ],
      "execution_count": null,
      "outputs": [
        {
          "output_type": "execute_result",
          "data": {
            "text/plain": [
              "['तुम', 'पूछते', 'हो', 'कि', 'क्यों,', 'और', 'कैसे', 'पूछते', 'हो।']"
            ]
          },
          "metadata": {
            "tags": []
          },
          "execution_count": 4
        }
      ]
    },
    {
      "cell_type": "code",
      "metadata": {
        "id": "Q0K0NOvvV7Fn"
      },
      "source": [
        "from nltk.translate import nist_score"
      ],
      "execution_count": null,
      "outputs": []
    },
    {
      "cell_type": "code",
      "metadata": {
        "id": "gIRIgk_tWAXq",
        "colab": {
          "base_uri": "https://localhost:8080/"
        },
        "outputId": "71562ca5-f91b-4e9b-a499-452e22306962"
      },
      "source": [
        "nltk.translate.nist_score.sentence_nist([x],y, n=4)"
      ],
      "execution_count": null,
      "outputs": [
        {
          "output_type": "execute_result",
          "data": {
            "text/plain": [
              "0.12206803207423442"
            ]
          },
          "metadata": {
            "tags": []
          },
          "execution_count": 6
        }
      ]
    },
    {
      "cell_type": "code",
      "metadata": {
        "colab": {
          "base_uri": "https://localhost:8080/"
        },
        "id": "IaYu0OQ8DzOS",
        "outputId": "970d9a42-a0cb-4533-dc43-ab666460ed6f"
      },
      "source": [
        "nltk.download('punkt')"
      ],
      "execution_count": null,
      "outputs": [
        {
          "output_type": "stream",
          "text": [
            "[nltk_data] Downloading package punkt to /root/nltk_data...\n",
            "[nltk_data]   Unzipping tokenizers/punkt.zip.\n"
          ],
          "name": "stdout"
        },
        {
          "output_type": "execute_result",
          "data": {
            "text/plain": [
              "True"
            ]
          },
          "metadata": {
            "tags": []
          },
          "execution_count": 4
        }
      ]
    },
    {
      "cell_type": "code",
      "metadata": {
        "id": "HB4Ag11DWMys",
        "colab": {
          "base_uri": "https://localhost:8080/"
        },
        "outputId": "d09a2a32-69a8-4290-bfbe-d37e8ae5ab54"
      },
      "source": [
        "from nltk import word_tokenize\n",
        "from nltk.translate import nist_score\n",
        "translated_file = \"/content/drive/MyDrive/NLP/@SMT/results/Lample-Smt/Unsupervised/test.hi.hyp.tok\"\n",
        "reference_file = \"/content/drive/MyDrive/NLP/@SMT/results/refernce.txt\"\n",
        "f5 = open('/content/nist_score_ur1.txt', \"a+\")\n",
        "with open(translated_file, \"r\") as f1, open(reference_file, \"r\") as f2:\n",
        "  lines1 = [line.rstrip('\\n') for line in f1]\n",
        "  print(len(lines1))\n",
        "  lines2 = [line.rstrip('\\n') for line in f2]\n",
        "  print(len(lines2))\n",
        "  for l1,l2 in zip(lines1,lines2):\n",
        "    tokens_ref=[word_tokenize(l2)]\n",
        "    #print(tokens_ref)\n",
        "    tokens_translate=word_tokenize(l1)\n",
        "    #print(tokens_translate)\n",
        "    score = nltk.translate.nist_score.sentence_nist(tokens_ref, tokens_translate,n=4)\n",
        "    f5.write(str(score)+'\\n')\n",
        "f5.close()"
      ],
      "execution_count": null,
      "outputs": [
        {
          "output_type": "stream",
          "text": [
            "273\n",
            "272\n"
          ],
          "name": "stdout"
        }
      ]
    },
    {
      "cell_type": "code",
      "metadata": {
        "id": "PY1pcJIVQwc7"
      },
      "source": [],
      "execution_count": null,
      "outputs": []
    }
  ]
}